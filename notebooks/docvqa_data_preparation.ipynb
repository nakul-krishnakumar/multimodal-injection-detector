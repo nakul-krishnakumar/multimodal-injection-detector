{
 "cells": [
  {
   "cell_type": "markdown",
   "id": "fbbbdc64",
   "metadata": {},
   "source": [
    "## DocVQA Data Preparation for `granite-vision-3.2` Fine Tuning\n",
    "\n",
    "- Load 2000 entries from `lmms-lab/DocVQA`\n",
    "- Generate prompt injection metadata using few shot learning on `gpt-4-turbo`\n",
    "- Draw on the image using a pipeline "
   ]
  },
  {
   "cell_type": "code",
   "execution_count": 8,
   "id": "81e88e3b",
   "metadata": {},
   "outputs": [
    {
     "data": {
      "text/plain": [
       "True"
      ]
     },
     "execution_count": 8,
     "metadata": {},
     "output_type": "execute_result"
    }
   ],
   "source": [
    "import os\n",
    "from datasets import load_dataset\n",
    "from tqdm import tqdm\n",
    "from PIL import Image, ImageDraw, ImageFont\n",
    "from openai import AzureOpenAI\n",
    "from dotenv import load_dotenv\n",
    "from pprint import pprint\n",
    "import pandas as pd\n",
    "\n",
    "load_dotenv()"
   ]
  },
  {
   "cell_type": "markdown",
   "id": "81b05ff5",
   "metadata": {},
   "source": [
    "### Setup and Initialize Model"
   ]
  },
  {
   "cell_type": "code",
   "execution_count": 3,
   "id": "dee6da33",
   "metadata": {},
   "outputs": [],
   "source": [
    "AZURE_OPENAI_API_VERSION = os.getenv(\"AZURE_OPENAI_API_VERSION\") or \"\"\n",
    "AZURE_OPENAI_ENDPOINT = os.getenv(\"AZURE_OPENAI_ENDPOINT\") or \"\"\n",
    "AZURE_OPENAI_API_KEY = os.getenv(\"AZURE_OPENAI_API_KEY\")\n",
    "\n",
    "model_name = \"gpt-4o\"\n",
    "deployment = \"gpt-4o\""
   ]
  },
  {
   "cell_type": "code",
   "execution_count": 3,
   "id": "01b81655",
   "metadata": {},
   "outputs": [],
   "source": [
    "client = AzureOpenAI(\n",
    "    api_version=AZURE_OPENAI_API_VERSION,\n",
    "    azure_endpoint=AZURE_OPENAI_ENDPOINT,\n",
    "    api_key=AZURE_OPENAI_API_KEY,\n",
    ")"
   ]
  },
  {
   "cell_type": "markdown",
   "id": "26a5cb15",
   "metadata": {},
   "source": [
    "### Load Dataset"
   ]
  },
  {
   "cell_type": "code",
   "execution_count": 6,
   "id": "9ec32b95",
   "metadata": {},
   "outputs": [],
   "source": [
    "docvqa_stream = load_dataset(\"lmms-lab/DocVQA\", \"DocVQA\", split=\"validation\", streaming=True)\n",
    "subset_iter = docvqa_stream.take(2000)"
   ]
  },
  {
   "cell_type": "code",
   "execution_count": null,
   "id": "61665e90",
   "metadata": {},
   "outputs": [
    {
     "name": "stdout",
     "output_type": "stream",
     "text": [
      "{'answers': ['0.28'],\n",
      " 'data_split': 'val',\n",
      " 'docId': 14465,\n",
      " 'image': <PIL.PngImagePlugin.PngImageFile image mode=L size=2257x1764 at 0x725C493D9FF0>,\n",
      " 'question': 'What is the ‘actual’ value per 1000, during the year 1975?',\n",
      " 'questionId': '49153',\n",
      " 'question_types': ['figure/diagram'],\n",
      " 'ucsf_document_id': 'pybv0228',\n",
      " 'ucsf_document_page_no': '81'}\n"
     ]
    }
   ],
   "source": [
    "records = list(subset_iter)\n",
    "pprint(records[0])"
   ]
  },
  {
   "cell_type": "code",
   "execution_count": null,
   "id": "cf952786",
   "metadata": {},
   "outputs": [],
   "source": [
    "n_samples = 15\n",
    "samples = records.sample(n_samples)\n",
    "\n",
    "n_cols = 3\n",
    "n_rows = (n_samples + n_cols - 1) // n_cols  # Ceiling division\n",
    "\n",
    "plt.figure(figsize=(4 * n_cols, 4 * n_rows))\n",
    "for i, (idx, row) in enumerate(samples.iterrows()):\n",
    "    plt.subplot(n_rows, n_cols, i + 1)\n",
    "    plt.imshow(row[\"image\"])\n",
    "    plt.title(row[\"injection_technique\"], fontsize=10)\n",
    "    plt.axis(\"off\")\n",
    "plt.suptitle(\"Meta CyberSecEval3 Samples (Visual Prompt Injections)\\n\\n\", fontsize=14)\n",
    "plt.tight_layout()\n",
    "plt.show()"
   ]
  }
 ],
 "metadata": {
  "kernelspec": {
   "display_name": "multimodal-injection-detector (3.10.19)",
   "language": "python",
   "name": "python3"
  },
  "language_info": {
   "codemirror_mode": {
    "name": "ipython",
    "version": 3
   },
   "file_extension": ".py",
   "mimetype": "text/x-python",
   "name": "python",
   "nbconvert_exporter": "python",
   "pygments_lexer": "ipython3",
   "version": "3.10.19"
  }
 },
 "nbformat": 4,
 "nbformat_minor": 5
}
